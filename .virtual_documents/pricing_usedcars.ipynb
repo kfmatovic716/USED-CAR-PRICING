

















import pandas as pd
import numpy as np
import plotly.express as px
import seaborn as sns
import os
import matplotlib.pyplot as plt
from sklearn import linear_model
from sklearn.metrics import mean_squared_error
from sklearn.metrics import mean_absolute_error


# import data
usedcars_df = pd.read_csv('data/vehicles.csv')
usedcars_df


# drop records with missing values (NaN)
usedcars_df_cleaned = usedcars_df.dropna()
usedcars_df_cleaned


# delete decimal point from year and odometer columns
usedcars_df_cleaned['year'] = usedcars_df_cleaned['year'].astype(int)
usedcars_df_cleaned['odometer'] = usedcars_df_cleaned['odometer'].astype(int)
usedcars_df_cleaned


# Filter only columns with at least one zero and find the total

zero_values = (usedcars_df_cleaned == 0).sum()
zero_values = zero_values[zero_values > 0]  

print(zero_values)


zero_price_df['manufacturer'].unique()


zero_price_df['model'].nunique()


zero_price_df['year'].unique()


zero_price_df['odometer'].describe()


zero_price_df['condition'].unique()





# determine the % of records without price
zero_price_pct = (usedcars_df_cleaned['price'] == 0).sum()/len(usedcars_df_cleaned)
zero_price_pct


# Create new df for the final cleaned version
usedcars_df_final = usedcars_df_cleaned[usedcars_df_cleaned['price'] != 0]
usedcars_df_final


# separating numerical and categorical values
category_vars = usedcars_df_final.columns[usedcars_df_final.dtypes == 'object']
numeric_vars = usedcars_df_final.columns[usedcars_df_final.dtypes != 'object']

print(category_vars)
print(numeric_vars)


print("The data has {} rows and {} columns".format(usedcars_df_final.shape[0], usedcars_df_final.shape[1]))
display(usedcars_df_final.describe())
display(usedcars_df_final.dtypes.value_counts())


# Plot histogram to see an overview of used car prices in the dataset
fig1 = px.histogram(usedcars_df_final, x='price')
fig1.update_layout(
    title='Distribution of Used Car Prices',
    xaxis_title='Price',
    yaxis_title='Number of Cars',
    width=1000,     
    height=600  
)
fig1.show()


Q1 = usedcars_df_final['price'].quantile(0.25)
Q3 = usedcars_df_final['price'].quantile(0.75)
IQR = Q3 - Q1

# Define bounds for outliers
lower_bound = Q1 - 1.5 * IQR
upper_bound = Q3 + 1.5 * IQR

# Filter outliers
outliers = usedcars_df_final[(usedcars_df_final['price'] < lower_bound) | (usedcars_df_final['price'] > upper_bound)]
num_outliers = usedcars_df_final[(usedcars_df_final['price'] < lower_bound) | (usedcars_df_final['price'] > upper_bound)].shape[0]

print(f"Number of outliers in 'price': {num_outliers}")



fig1 = px.box(usedcars_df_final, y="price")
fig1.show()


# Create a df without outliers
df_no_outliers = usedcars_df_final[(usedcars_df_final['price'] >= lower_bound) & (usedcars_df_final['price'] <= upper_bound)]
df_no_outliers


df_no_outliers.describe()


fig1 = px.box(df_no_outliers, y="price")
fig1.show()


odometer_feature = usedcars_df_final[["odometer"]]
price = usedcars_df_final["price"]

odometer_lr = linear_model.LinearRegression(fit_intercept = False)
odometer_lr.fit(odometer_feature, price)


usedcars_df_final['prediction'] = odometer_lr.predict(odometer_feature)
usedcars_df_final


import plotly.graph_objects as go
fig = go.Figure()
fig.add_trace(go.Scatter(x=usedcars_df_final['odometer'], y = usedcars_df_final['price'], 
                         mode = "markers", name = "actual"))
fig.add_trace(go.Scatter(x=usedcars_df_final['odometer'], y = usedcars_df_final['prediction'], 
                         mode = "lines", name = "predicted"))
fig.update_layout(font_size = 20)


# One hot coding for price vs manufacturer
two_features =  df_no_outliers[['manufacturer', 'year']]
price = df_no_outliers["price"]

two_features_df = pd.DataFrame(two_features)
two_features_df.head(5)


# create dummies to represent each  manufacturer

manuf_dummies = pd.get_dummies(two_features_df['manufacturer'])
manuf_dummies.head()


print(f"Number of features after encoding: {manuf_dummies.shape[1]}")
print(manuf_dummies.columns.tolist())



manufdummies_df = pd.concat([two_features_df, manuf_dummies], axis=1)
manufdummies_df.head(10)


del manufdummies_df["manufacturer"]
manufdummies_df.head(10)


two_features_lr = linear_model.LinearRegression(fit_intercept=False)
two_features_lr.fit(manufdummies_df, price)



two_features_lr.coef_


px.scatter(df_no_outliers, x = "year", y =  "price", color = "manufacturer", trendline = "ols")


# Delete records in column price and odometer since they are not sifnificant amount and no specific pattern is observed to impute
columns_with_zero = ['price', 'odometer']  
usedcars_df_cleaned = usedcars_df_cleaned[(usedcars_df_cleaned[columns_with_zero] != 0).all(axis=1)]
usedcars_df_cleaned


# Look at number of rows/columns, summary statistics and data types (total counts of numberical/categorical)
print("The data has {} rows and {} columns".format(usedcars_df_cleaned.shape[0], usedcars_df_cleaned.shape[1]))
display(usedcars_df_cleaned.describe())
display(usedcars_df_cleaned.dtypes.value_counts())





usedcars_df_cleaned[usedcars_df_cleaned['price'] == 1]


# Check the % of price with $1
(usedcars_df_cleaned['price'] == 1).sum()/len(usedcars_df_cleaned)


# Delete the records with price of $1 since 2.1% of dataset (not significant)
usedcars_df_final = usedcars_df_cleaned[usedcars_df_cleaned['price'] != 1]
usedcars_df_final


# Look at number of rows/columns, summary statistics and data types (total counts of numberical/categorical)
print("The data has {} rows and {} columns".format(usedcars_df_final.shape[0], usedcars_df_final.shape[1]))
display(usedcars_df_final.describe())
display(usedcars_df_final.dtypes.value_counts())





fig = px.histogram(usedcars_df_final, x='price', nbins=30, title='Price Distribution')

fig.update_layout(xaxis_title='Price', yaxis_title='Count')
fig.show()


# Calculate IQR
Q1 = usedcars_df_final['price'].quantile(0.25)
Q3 = usedcars_df_final['price'].quantile(0.75)
IQR = Q3 - Q1

# Define outlier bounds
lower_bound = Q1 - 1.5 * IQR
upper_bound = Q3 + 1.5 * IQR

# Get outlier rows
outliers = usedcars_df_final[(usedcars_df_final['price'] < lower_bound) | (usedcars_df_final['price'] > upper_bound)]

# Get number of outlier records
num_outliers = ((usedcars_df_final['price'] < lower_bound) | (usedcars_df_final['price'] > upper_bound)).sum()
percentage_outliers = num_outliers / len(usedcars_df_final) * 100

print(f"Number of outlier records in 'price': {num_outliers}")
print(f"Percentage of outliers in 'price': {percentage_outliers:.2f}%")



# Visualize the outliers

fig = px.box(usedcars_df_final, y="price")
fig.show()






# Create new dataframe that doesnt have outliers (will use this df for modeling)
usedcarsdf_no_outliers = usedcars_df_final[(usedcars_df_final['price'] >= lower_bound) & (usedcars_df_final['price'] <= upper_bound)]

print(f"Original rows: {usedcars_df_final.shape[0]}")
print(f"After removing outliers: {usedcarsdf_no_outliers.shape[0]}")


# Run correlation to see if the possible relationship price has with yeat and odometer
correlation_matrix = usedcarsdf_no_outliers.drop(columns='id').corr()
correlation_matrix





fig = px.box(
    usedcarsdf_no_outliers,
    x='condition',             # First level category on x-axis
    y='price',                 # Numeric variable to plot
    color = 'condition',
    points='outliers',         # Show outliers
    title='Boxplot of Used Car Prices by Condition'
)

fig.update_layout(xaxis_title='condition of used car', yaxis_title='price')
fig.show()





# Separating numerical and categorical variables
category_vars = usedcarsdf_no_outliers.columns[usedcarsdf_no_outliers.dtypes == 'object']
numeric_vars = usedcarsdf_no_outliers.columns[usedcarsdf_no_outliers.dtypes != 'object']

print(category_vars)
print(numeric_vars)


usedcarsdf_no_outliers['year'].nunique()


# Visualize the entire df on price vs odometer
fig = px.scatter(usedcarsdf_no_outliers, x="odometer", y="price")
fig.show()


# Just curious how it looks when fpcusing on odometer readings less than 2 million
fig = px.scatter(usedcarsdf_no_outliers[usedcarsdf_no_outliers['odometer'] < 2_000_000], x="odometer", y="price")
fig.show()


# Visualize the relationship between used car price vs year

fig = px.scatter(usedcarsdf_no_outliers, x='year', y='price', trendline='ols', 
                 title='Price vs. Year with Trendline')
fig.data[1].line.color = 'red' 
fig.update_layout(xaxis_title='Car Year', yaxis_title='Price')
fig.show()





mfr_avg_price = usedcarsdf_no_outliers.groupby('manufacturer', as_index=False)['price'].mean()

# Sort for better visualization
mfr_avg_price = mfr_avg_price.sort_values('price', ascending=False)

fig = px.bar(
    mfr_avg_price,
    x='manufacturer',
    y='price',
    title='Average Used Car Price by Manufacturer'
)

fig.update_layout(xaxis_title='Manufacturer', yaxis_title='Average Price')
fig.show()








four_features = ['odometer', 'year', 'condition', 'manufacturer']

four_features_data = pd. DataFrame(usedcarsdf_no_outliers[four_features])
four_features_data.head(10)


dummies = pd.get_dummies(four_features_data, columns=["condition", "manufacturer"], prefix='',
    prefix_sep='')
dummies.head(10)


# Check the columns generated 

dummies.columns


condition_dummies = pd.get_dummies(usedcarsdf_no_outliers['condition'])
condition_dummies.head()


manufacturer_dummies = pd.get_dummies(usedcarsdf_no_outliers['manufacturer'])
manufacturer_dummies.head()








# Set aside the features you use to predict and the feature that you want to predict (price)

model1_feature = usedcarsdf_no_outliers[["odometer"]]
price = usedcarsdf_no_outliers["price"]


# Instantiate linear regression to predict price using odometer

odometer_lr = linear_model.LinearRegression(fit_intercept=False)
odometer_lr.fit(model1_feature, price)


usedcarsdf_no_outliers["prediction"] = odometer_lr.predict(model1_feature)
usedcarsdf_no_outliers.head(10)


import plotly.graph_objects as go
fig = go.Figure()
fig.add_trace(go.Scatter(x=usedcarsdf_no_outliers['odometer'], y = usedcarsdf_no_outliers['price'], 
                         mode = "markers", name = "actual"))
fig.add_trace(go.Scatter(x=usedcarsdf_no_outliers['odometer'], y = usedcarsdf_no_outliers['prediction'], 
                         mode = "lines", name = "predicted"))
fig.update_layout(font_size = 20)


# find coefficient
odometer_lr.coef_


mean_squared_error(price, odometer_lr.predict(model1_feature))


mean_absolute_error(price, odometer_lr.predict(model1_feature))





model2_feature = usedcarsdf_no_outliers[["year"]]


year_lr = linear_model.LinearRegression(fit_intercept=False)
year_lr.fit(model2_feature, price)


usedcarsdf_no_outliers["prediction2"] = year_lr.predict(model2_feature)
usedcarsdf_no_outliers.head(10)


import plotly.graph_objects as go
fig = go.Figure()
fig.add_trace(go.Scatter(x=usedcarsdf_no_outliers['year'], y = usedcarsdf_no_outliers['price'], 
                         mode = "markers", name = "actual"))
fig.add_trace(go.Scatter(x=usedcarsdf_no_outliers['year'], y = usedcarsdf_no_outliers['prediction2'], 
                         mode = "lines", name = "predicted"))
fig.update_layout(font_size = 20)





model3_lr = linear_model.LinearRegression(fit_intercept=False)
model3_lr.fit(condition_dummies, price)


model3_lr.coef_


mean_squared_error(usedcarsdf_no_outliers['price'], model3_lr.predict(condition_dummies))


mean_absolute_error(usedcarsdf_no_outliers['price'], model3_lr.predict(condition_dummies))





model4_lr = linear_model.LinearRegression(fit_intercept=False)
model4_lr.fit(manufacturer_dummies, price)


model3_lr.coef_


mean_squared_error(usedcarsdf_no_outliers['price'], model4_lr.predict(manufacturer_dummies))
















































