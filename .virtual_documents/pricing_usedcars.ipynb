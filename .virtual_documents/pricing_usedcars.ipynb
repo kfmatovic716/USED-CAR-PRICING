import matplotlib.pyplot as plt
import seaborn as sns
import pandas as pd
import numpy as np
import plotly.express as px
import os


usedcars_df = pd.read_csv('data/vehicles.csv')
usedcars_df



