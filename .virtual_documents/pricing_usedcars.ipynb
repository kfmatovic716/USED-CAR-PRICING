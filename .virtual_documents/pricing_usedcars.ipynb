

















import pandas as pd
import numpy as np
import plotly.express as px
import os
import matplotlib.pyplot as plt
from sklearn import linear_model
from sklearn.metrics import mean_squared_error
from sklearn.metrics import mean_absolute_error


# import data
usedcars_df = pd.read_csv('data/vehicles.csv')
usedcars_df


# drop records with missing values (NaN)
usedcars_df_cleaned = usedcars_df.dropna()
usedcars_df_cleaned


# delete decimal point from year and odometer columns
usedcars_df_cleaned['year'] = usedcars_df_cleaned['year'].astype(int)
usedcars_df_cleaned['odometer'] = usedcars_df_cleaned['odometer'].astype(int)
usedcars_df_cleaned


zero_price_df = usedcars_df_cleaned[usedcars_df_cleaned['price'] == 0]
zero_price_df





zero_price_df['manufacturer'].unique()


zero_price_df['model'].nunique()


zero_price_df['year'].unique()


zero_price_df['odometer'].describe()


zero_price_df['condition'].unique()





# determine the % of records without price
zero_price_pct = (usedcars_df_cleaned['price'] == 0).sum()/len(usedcars_df_cleaned)
zero_price_pct


# Create new df for the final cleaned version
usedcars_df_final = usedcars_df_cleaned[usedcars_df_cleaned['price'] != 0]
usedcars_df_final


# separating numerical and categorical values
category_vars = usedcars_df_final.columns[usedcars_df_final.dtypes == 'object']
numeric_vars = usedcars_df_final.columns[usedcars_df_final.dtypes != 'object']

print(category_vars)
print(numeric_vars)


print("The data has {} rows and {} columns".format(usedcars_df_final.shape[0], usedcars_df_final.shape[1]))
display(usedcars_df_final.describe())
display(usedcars_df_final.dtypes.value_counts())


# Plot histogram to see an overview of used car prices in the dataset
fig1 = px.histogram(usedcars_df_final, x='price')
fig1.update_layout(
    title='Distribution of Used Car Prices',
    xaxis_title='Price',
    yaxis_title='Number of Cars',
    width=1000,     
    height=600  
)
fig1.show()


# One hot coding for price vs manufacturer
manufacturer = ['manufacturer']
price = usedcars_df_final["price"]

manufacturer_df = pd.DataFrame(usedcars_df_final['manufacturer'])
manufacturer_df.head(10)


# create dummies to represent each  manufacturer

dummies = pd.get_dummies(manufacturer_df['manufacturer'])
dummies.head()


print(f"Number of features after encoding: {dummies.shape[1]}")
print(dummies.columns.tolist())






# Instantiate multiple lr model using manufacturer

manuf_lr = linear_model.LinearRegression(fit_intercept=False)
manuf_lr.fit(dummies, price)


# finding thetas for all 41 dimensions
manuf_lr.coef_


mean_squared_error(price, manuf_lr.predict(dummies))


mean_absolute_error(price, manuf_lr.predict(dummies))


# Set aside the features you use to predict (features) and the feature that you want to predict (tip)
year_feature = usedcars_df_cleaned[["year"]]
price = usedcars_df_cleaned["price"]

# Instantiate a linear regression model 
year_lr = linear_model.LinearRegression(fit_intercept = False)

# Train the model (x.fit(features you use to predict, feature to predict)
year_lr.fit(year_feature, price)


year_lr.coef_


mean_squared_error(price, year_lr.predict(year_feature))
















































