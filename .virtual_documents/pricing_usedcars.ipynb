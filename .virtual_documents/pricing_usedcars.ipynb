import matplotlib.pyplot as plt
import seaborn as sns
import pandas as pd
import numpy as np
import plotly.express as px
import os


# import data
usedcars_df = pd.read_csv('data/vehicles.csv')
usedcars_df


# drop records with missing values (NaN)
usedcars_df_cleaned = usedcars_df.dropna()
usedcars_df_cleaned


# separating numerical and categorical values
category_vars = usedcars_df_cleaned.columns[usedcars_df_cleaned.dtypes == 'object']
numeric_vars = usedcars_df_cleaned.columns[usedcars_df_cleaned.dtypes != 'object']

print(category_vars)
print(numeric_vars)


print("The data has {} rows and {} columns".format(usedcars_df_cleaned.shape[0], usedcars_df_cleaned.shape[1]))
display(usedcars_df_cleaned.describe())
display(usedcars_df_cleaned.dtypes.value_counts())


# determine the % of records without price
zero_price_pct = (usedcars_df_cleaned['price'] == 0).sum()/len(usedcars_df_cleaned)
zero_price_pct


usedcars_df_cleaned['price'] == 0



